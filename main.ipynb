{
 "cells": [
  {
   "cell_type": "code",
   "execution_count": 1,
   "id": "28646ea1",
   "metadata": {},
   "outputs": [],
   "source": [
    "from tqdm import tqdm\n",
    "import pandas as pd\n",
    "import json\n",
    "import plotly.express as px"
   ]
  },
  {
   "cell_type": "code",
   "execution_count": 40,
   "id": "7595e4bc",
   "metadata": {},
   "outputs": [],
   "source": [
    "df = pd.read_csv(\"data\\mock3kRows.csv\", index_col=0)"
   ]
  },
  {
   "cell_type": "code",
   "execution_count": null,
   "id": "7c1a6eb9",
   "metadata": {},
   "outputs": [
    {
     "data": {
      "text/plain": [
       "0.9999953190533254"
      ]
     },
     "execution_count": 5,
     "metadata": {},
     "output_type": "execute_result"
    }
   ],
   "source": [
    "l = len(df)\n",
    "map = {'Very Low': (l-200252)/l,\n",
    "'Low': (l-12560)/l,\n",
    "'Medium': (l-775)/l,\n",
    "'High': (l-44)/l,\n",
    "'Very High': (l-1)/l}\n",
    "map['Very High']"
   ]
  },
  {
   "cell_type": "code",
   "execution_count": 7,
   "id": "e92317b2",
   "metadata": {},
   "outputs": [
    {
     "name": "stderr",
     "output_type": "stream",
     "text": [
      "100%|██████████| 213632/213632 [00:00<00:00, 262668.40it/s]\n"
     ]
    }
   ],
   "source": [
    "df[df['type'] == \"{ความสะอาด,ป้าย,กีดขวาง,ร้องเรียน,ทางเท้า,ถนน}\"]\n",
    "df[\"processed\"] = [i[1:-1].split(',') if type(i) == str else [] for i in tqdm(df['type'])]\n",
    "df2 = df.explode(\"processed\")"
   ]
  },
  {
   "cell_type": "code",
   "execution_count": 4,
   "id": "d05ffbdb",
   "metadata": {},
   "outputs": [
    {
     "data": {
      "text/plain": [
       "Index(['type', 'organization', 'comment', 'photo', 'photo_after', 'coords',\n",
       "       'subdistrict', 'district', 'timestamp', 'state', 'star',\n",
       "       'last_activity', 'severity', 'time_to_solve'],\n",
       "      dtype='object')"
      ]
     },
     "execution_count": 4,
     "metadata": {},
     "output_type": "execute_result"
    }
   ],
   "source": [
    "df.columns"
   ]
  },
  {
   "cell_type": "code",
   "execution_count": 6,
   "id": "51c29d7a",
   "metadata": {},
   "outputs": [
    {
     "data": {
      "text/plain": [
       "Index(['type', 'organization', 'comment', 'photo', 'photo_after', 'coords',\n",
       "       'subdistrict', 'district', 'timestamp', 'state', 'star',\n",
       "       'last_activity', 'severity', 'time_to_solve'],\n",
       "      dtype='object')"
      ]
     },
     "execution_count": 6,
     "metadata": {},
     "output_type": "execute_result"
    }
   ],
   "source": [
    "df.columns"
   ]
  },
  {
   "cell_type": "code",
   "execution_count": 11,
   "id": "912fbfd2",
   "metadata": {},
   "outputs": [
    {
     "data": {
      "text/html": [
       "<div>\n",
       "<style scoped>\n",
       "    .dataframe tbody tr th:only-of-type {\n",
       "        vertical-align: middle;\n",
       "    }\n",
       "\n",
       "    .dataframe tbody tr th {\n",
       "        vertical-align: top;\n",
       "    }\n",
       "\n",
       "    .dataframe thead th {\n",
       "        text-align: right;\n",
       "    }\n",
       "</style>\n",
       "<table border=\"1\" class=\"dataframe\">\n",
       "  <thead>\n",
       "    <tr style=\"text-align: right;\">\n",
       "      <th></th>\n",
       "      <th>star</th>\n",
       "      <th>time_to_solve</th>\n",
       "    </tr>\n",
       "    <tr>\n",
       "      <th>severity</th>\n",
       "      <th></th>\n",
       "      <th></th>\n",
       "    </tr>\n",
       "  </thead>\n",
       "  <tbody>\n",
       "    <tr>\n",
       "      <th>High</th>\n",
       "      <td>3.727273</td>\n",
       "      <td>5.772727</td>\n",
       "    </tr>\n",
       "    <tr>\n",
       "      <th>Low</th>\n",
       "      <td>3.921815</td>\n",
       "      <td>6.628344</td>\n",
       "    </tr>\n",
       "    <tr>\n",
       "      <th>Medium</th>\n",
       "      <td>3.966452</td>\n",
       "      <td>6.930323</td>\n",
       "    </tr>\n",
       "    <tr>\n",
       "      <th>Very High</th>\n",
       "      <td>5.000000</td>\n",
       "      <td>2.000000</td>\n",
       "    </tr>\n",
       "    <tr>\n",
       "      <th>Very Low</th>\n",
       "      <td>3.916136</td>\n",
       "      <td>6.684722</td>\n",
       "    </tr>\n",
       "  </tbody>\n",
       "</table>\n",
       "</div>"
      ],
      "text/plain": [
       "               star  time_to_solve\n",
       "severity                          \n",
       "High       3.727273       5.772727\n",
       "Low        3.921815       6.628344\n",
       "Medium     3.966452       6.930323\n",
       "Very High  5.000000       2.000000\n",
       "Very Low   3.916136       6.684722"
      ]
     },
     "execution_count": 11,
     "metadata": {},
     "output_type": "execute_result"
    }
   ],
   "source": [
    "ttl = df.groupby('severity').mean(\"time_to_solve\")\n",
    "ttl"
   ]
  },
  {
   "cell_type": "code",
   "execution_count": 17,
   "id": "8344c262",
   "metadata": {},
   "outputs": [],
   "source": [
    "ttl = ttl.reset_index()"
   ]
  },
  {
   "cell_type": "code",
   "execution_count": null,
   "id": "27d73e63",
   "metadata": {},
   "outputs": [],
   "source": [
    "sev = ['Very Low', 'Low', 'Medium', 'High', 'Very High']\n",
    "ttl_list = []\n",
    "for i in sev:\n",
    "  if len(ttl[ttl['severity'] == i]) > 0:\n",
    "    ttl_list.append(ttl[ttl['severity'] == i]['time_to_solve'].iloc[0])\n",
    "  else:\n",
    "    sev.remove(i)\n",
    "    \n",
    "mean_ttl = pd.DataFrame({'Severity':sev, 'Mean time to solve (days)': ttl_list})"
   ]
  },
  {
   "cell_type": "code",
   "execution_count": 27,
   "id": "20725beb",
   "metadata": {},
   "outputs": [
    {
     "data": {
      "text/html": [
       "<div>\n",
       "<style scoped>\n",
       "    .dataframe tbody tr th:only-of-type {\n",
       "        vertical-align: middle;\n",
       "    }\n",
       "\n",
       "    .dataframe tbody tr th {\n",
       "        vertical-align: top;\n",
       "    }\n",
       "\n",
       "    .dataframe thead th {\n",
       "        text-align: right;\n",
       "    }\n",
       "</style>\n",
       "<table border=\"1\" class=\"dataframe\">\n",
       "  <thead>\n",
       "    <tr style=\"text-align: right;\">\n",
       "      <th></th>\n",
       "      <th>Severity</th>\n",
       "      <th>Mean time to solve (days)</th>\n",
       "    </tr>\n",
       "  </thead>\n",
       "  <tbody>\n",
       "    <tr>\n",
       "      <th>0</th>\n",
       "      <td>Very Low</td>\n",
       "      <td>6.684722</td>\n",
       "    </tr>\n",
       "    <tr>\n",
       "      <th>1</th>\n",
       "      <td>Low</td>\n",
       "      <td>6.628344</td>\n",
       "    </tr>\n",
       "    <tr>\n",
       "      <th>2</th>\n",
       "      <td>Medium</td>\n",
       "      <td>6.930323</td>\n",
       "    </tr>\n",
       "    <tr>\n",
       "      <th>3</th>\n",
       "      <td>High</td>\n",
       "      <td>5.772727</td>\n",
       "    </tr>\n",
       "    <tr>\n",
       "      <th>4</th>\n",
       "      <td>Very High</td>\n",
       "      <td>2.000000</td>\n",
       "    </tr>\n",
       "  </tbody>\n",
       "</table>\n",
       "</div>"
      ],
      "text/plain": [
       "    Severity  Mean time to solve (days)\n",
       "0   Very Low                   6.684722\n",
       "1        Low                   6.628344\n",
       "2     Medium                   6.930323\n",
       "3       High                   5.772727\n",
       "4  Very High                   2.000000"
      ]
     },
     "execution_count": 27,
     "metadata": {},
     "output_type": "execute_result"
    }
   ],
   "source": [
    "mean_ttl"
   ]
  },
  {
   "cell_type": "code",
   "execution_count": 13,
   "id": "c20e6872",
   "metadata": {},
   "outputs": [
    {
     "data": {
      "text/plain": [
       "subdistrict\n",
       "ดินแดง        4793\n",
       "สวนหลวง       4433\n",
       "อนุสาวรีย์    4008\n",
       "สามเสนใน      3850\n",
       "ลาดพร้าว      3502\n",
       "              ... \n",
       "พระโขนงใต้      72\n",
       "จักรวรรดิ์       4\n",
       "บางนา            1\n",
       "รัชดาภิเษก       1\n",
       "อ่อนนุช          1\n",
       "Name: count, Length: 179, dtype: int64"
      ]
     },
     "execution_count": 13,
     "metadata": {},
     "output_type": "execute_result"
    }
   ],
   "source": [
    "df.subdistrict.value_counts()"
   ]
  },
  {
   "cell_type": "code",
   "execution_count": null,
   "id": "526ac1df",
   "metadata": {},
   "outputs": [],
   "source": [
    "with open(\"BangkokSubdistricts.geojson\", encoding=\"utf-8\") as f:\n",
    "    geojson_data = json.load(f)"
   ]
  },
  {
   "cell_type": "code",
   "execution_count": 9,
   "id": "b6e28ebb",
   "metadata": {},
   "outputs": [],
   "source": [
    "problem_types = df2['processed'].unique()"
   ]
  },
  {
   "cell_type": "code",
   "execution_count": 15,
   "id": "761b46c3",
   "metadata": {},
   "outputs": [
    {
     "data": {
      "text/plain": [
       "24"
      ]
     },
     "execution_count": 15,
     "metadata": {},
     "output_type": "execute_result"
    }
   ],
   "source": [
    "len(problem_types)"
   ]
  },
  {
   "cell_type": "code",
   "execution_count": 13,
   "id": "e59f1209",
   "metadata": {},
   "outputs": [],
   "source": [
    "problem_types_map = {}\n",
    "for i in problem_types:\n",
    "    problem_types_map[i] = False"
   ]
  },
  {
   "cell_type": "code",
   "execution_count": null,
   "id": "5b2aa416",
   "metadata": {},
   "outputs": [],
   "source": []
  }
 ],
 "metadata": {
  "kernelspec": {
   "display_name": "dsde-cp",
   "language": "python",
   "name": "python3"
  },
  "language_info": {
   "codemirror_mode": {
    "name": "ipython",
    "version": 3
   },
   "file_extension": ".py",
   "mimetype": "text/x-python",
   "name": "python",
   "nbconvert_exporter": "python",
   "pygments_lexer": "ipython3",
   "version": "3.11.11"
  }
 },
 "nbformat": 4,
 "nbformat_minor": 5
}
